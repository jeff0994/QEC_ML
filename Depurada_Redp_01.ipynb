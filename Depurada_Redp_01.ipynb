{
  "nbformat": 4,
  "nbformat_minor": 0,
  "metadata": {
    "kernelspec": {
      "name": "python3",
      "display_name": "Python 3"
    },
    "language_info": {
      "codemirror_mode": {
        "name": "ipython",
        "version": 3
      },
      "file_extension": ".py",
      "mimetype": "text/x-python",
      "name": "python",
      "nbconvert_exporter": "python",
      "pygments_lexer": "ipython3",
      "version": "3.6.9"
    },
    "colab": {
      "name": "Depurada_Redp_01.ipynb",
      "provenance": [],
      "collapsed_sections": [
        "5i2KRS7tMGTS"
      ]
    },
    "accelerator": "GPU"
  },
  "cells": [
    {
      "cell_type": "code",
      "metadata": {
        "id": "MsSlFj0vG92X",
        "colab_type": "code",
        "outputId": "c265ae76-6378-4de5-f4f1-ed8fed946e68",
        "colab": {
          "base_uri": "https://localhost:8080/",
          "height": 34
        }
      },
      "source": [
        "import json\n",
        "import os\n",
        "import numpy as np\n",
        "import pandas as pd\n",
        "import keras\n",
        "from keras.models import Sequential\n",
        "from keras.layers import LSTM\n",
        "from keras.layers import Dense, Dropout\n",
        "from sklearn.model_selection import train_test_split\n",
        "from sklearn.preprocessing import MinMaxScaler, StandardScaler"
      ],
      "execution_count": 0,
      "outputs": [
        {
          "output_type": "stream",
          "text": [
            "Using TensorFlow backend.\n"
          ],
          "name": "stderr"
        }
      ]
    },
    {
      "cell_type": "code",
      "metadata": {
        "id": "DalBNEihXIei",
        "colab_type": "code",
        "outputId": "6a301c0f-10e4-417b-a77f-bed947db82ea",
        "colab": {
          "base_uri": "https://localhost:8080/",
          "height": 122
        }
      },
      "source": [
        "from google.colab import drive\n",
        "drive.mount('/content/gdrive')"
      ],
      "execution_count": 0,
      "outputs": [
        {
          "output_type": "stream",
          "text": [
            "Go to this URL in a browser: https://accounts.google.com/o/oauth2/auth?client_id=947318989803-6bn6qk8qdgf4n4g3pfee6491hc0brc4i.apps.googleusercontent.com&redirect_uri=urn%3aietf%3awg%3aoauth%3a2.0%3aoob&response_type=code&scope=email%20https%3a%2f%2fwww.googleapis.com%2fauth%2fdocs.test%20https%3a%2f%2fwww.googleapis.com%2fauth%2fdrive%20https%3a%2f%2fwww.googleapis.com%2fauth%2fdrive.photos.readonly%20https%3a%2f%2fwww.googleapis.com%2fauth%2fpeopleapi.readonly\n",
            "\n",
            "Enter your authorization code:\n",
            "··········\n",
            "Mounted at /content/gdrive\n"
          ],
          "name": "stdout"
        }
      ]
    },
    {
      "cell_type": "code",
      "metadata": {
        "id": "0b3gTLyfpl6X",
        "colab_type": "code",
        "colab": {}
      },
      "source": [
        ""
      ],
      "execution_count": 0,
      "outputs": []
    },
    {
      "cell_type": "code",
      "metadata": {
        "id": "z-or0VNrYCgX",
        "colab_type": "code",
        "colab": {}
      },
      "source": [
        "root_path = 'gdrive/My Drive/Datos/'"
      ],
      "execution_count": 0,
      "outputs": []
    },
    {
      "cell_type": "markdown",
      "metadata": {
        "id": "Clv24UtNG92b",
        "colab_type": "text"
      },
      "source": [
        "#Para entrenamiento\n",
        "path_to_json = './'\n",
        "json_files = [pos_json for pos_json in os.listdir(path_to_json) if pos_json.endswith('.json')]"
      ]
    },
    {
      "cell_type": "code",
      "metadata": {
        "id": "A-SXcCvZG92c",
        "colab_type": "code",
        "colab": {}
      },
      "source": [
        "#Para Test\n",
        "#path_to_json = 'C://Users//daoban//OneDrive//Tesis_QEC//SimulacionCircuitos//gen_sampler//p0_1'\n",
        "path_to_json = root_path\n",
        "json_files = [pos_json for pos_json in os.listdir(path_to_json) if pos_json.endswith('.json')]"
      ],
      "execution_count": 0,
      "outputs": []
    },
    {
      "cell_type": "code",
      "metadata": {
        "id": "2e3cUYjIG92f",
        "colab_type": "code",
        "outputId": "3964cfdd-d316-4db6-9c42-4ff8ef792dd3",
        "colab": {
          "base_uri": "https://localhost:8080/",
          "height": 357
        }
      },
      "source": [
        "json_files #= json_files[:len(json_files)-1] #xq ya hay una json"
      ],
      "execution_count": 0,
      "outputs": [
        {
          "output_type": "execute_result",
          "data": {
            "text/plain": [
              "['0.json',\n",
              " '1.json',\n",
              " '2.json',\n",
              " '3.json',\n",
              " '4.json',\n",
              " '5.json',\n",
              " '6.json',\n",
              " '7.json',\n",
              " '8.json',\n",
              " '9.json',\n",
              " '10.json',\n",
              " '11.json',\n",
              " '13.json',\n",
              " '14.json',\n",
              " '15.json',\n",
              " '16.json',\n",
              " '17.json',\n",
              " '12.json',\n",
              " '18.json',\n",
              " '19.json']"
            ]
          },
          "metadata": {
            "tags": []
          },
          "execution_count": 9
        }
      ]
    },
    {
      "cell_type": "code",
      "metadata": {
        "id": "rh5NzZvwG92i",
        "colab_type": "code",
        "outputId": "eb697214-8bfb-427b-ce38-21e6e9b58eee",
        "colab": {
          "base_uri": "https://localhost:8080/",
          "height": 163
        }
      },
      "source": [
        "json_text.keys()"
      ],
      "execution_count": 0,
      "outputs": [
        {
          "output_type": "error",
          "ename": "NameError",
          "evalue": "ignored",
          "traceback": [
            "\u001b[0;31m---------------------------------------------------------------------------\u001b[0m",
            "\u001b[0;31mNameError\u001b[0m                                 Traceback (most recent call last)",
            "\u001b[0;32m<ipython-input-6-99f29e45a8df>\u001b[0m in \u001b[0;36m<module>\u001b[0;34m()\u001b[0m\n\u001b[0;32m----> 1\u001b[0;31m \u001b[0mjson_text\u001b[0m\u001b[0;34m.\u001b[0m\u001b[0mkeys\u001b[0m\u001b[0;34m(\u001b[0m\u001b[0;34m)\u001b[0m\u001b[0;34m\u001b[0m\u001b[0;34m\u001b[0m\u001b[0m\n\u001b[0m",
            "\u001b[0;31mNameError\u001b[0m: name 'json_text' is not defined"
          ]
        }
      ]
    },
    {
      "cell_type": "code",
      "metadata": {
        "id": "3Va3DF9RG92m",
        "colab_type": "code",
        "colab": {}
      },
      "source": [
        "x_correc = []\n",
        "x_stab = []\n",
        "z_correc = []\n",
        "z_stab = []\n",
        "final_errors = []\n",
        "for index, js in enumerate(json_files):\n",
        "    with open(os.path.join(path_to_json, js)) as json_file:\n",
        "        json_text = json.load(json_file)\n",
        "        x_correc.append(json_text['X_corrections'])\n",
        "        x_stab.append(json_text['X_stab_outcomes'])\n",
        "        z_correc.append(json_text['Z_corrections'])\n",
        "        z_stab.append(json_text['Z_stab_outcomes'])\n",
        "        final_errors.append(json_text['failings_total_NN'])"
      ],
      "execution_count": 0,
      "outputs": []
    },
    {
      "cell_type": "code",
      "metadata": {
        "id": "J-YWTBvdG92q",
        "colab_type": "code",
        "colab": {}
      },
      "source": [
        "#relleno los que tienen solo dos mediciones iguales x\n",
        "for i in range(0,len(x_stab)):\n",
        "    for j in range(0,len(x_stab[i])):\n",
        "        if len(x_stab[i][j]) != 3:\n",
        "           x_stab[i][j].append(x_stab[i][j][0])"
      ],
      "execution_count": 0,
      "outputs": []
    },
    {
      "cell_type": "code",
      "metadata": {
        "id": "-V0tALVOG92u",
        "colab_type": "code",
        "colab": {}
      },
      "source": [
        "#relleno los que tienen solo dos mediciones iguales z\n",
        "for i in range(0,len(z_stab)):\n",
        "    for j in range(0,len(z_stab[i])):\n",
        "        if len(z_stab[i][j]) != 3:\n",
        "           z_stab[i][j].append(z_stab[i][j][0])"
      ],
      "execution_count": 0,
      "outputs": []
    },
    {
      "cell_type": "code",
      "metadata": {
        "id": "xJcwDub-G92y",
        "colab_type": "code",
        "colab": {}
      },
      "source": [
        "dataz_stab =[]\n",
        "for i in range(0,len(z_stab)):\n",
        "    for j in range(0,len(z_stab[i])):\n",
        "        for k in range(0,len(z_stab[i][j])):\n",
        "            for l in range(0,len(z_stab[i][j][k])):\n",
        "                dataz_stab.append(z_stab[i][j][k][l])"
      ],
      "execution_count": 0,
      "outputs": []
    },
    {
      "cell_type": "code",
      "metadata": {
        "id": "-Q-iMB-JG920",
        "colab_type": "code",
        "colab": {}
      },
      "source": [
        "datax_stab =[]\n",
        "for i in range(0,len(x_stab)):\n",
        "    for j in range(0,len(x_stab[i])):\n",
        "        for k in range(0,len(x_stab[i][j])):\n",
        "            for l in range(0,len(x_stab[i][j][k])):\n",
        "                datax_stab.append(x_stab[i][j][k][l])"
      ],
      "execution_count": 0,
      "outputs": []
    },
    {
      "cell_type": "code",
      "metadata": {
        "id": "BV6ggFEnG923",
        "colab_type": "code",
        "colab": {}
      },
      "source": [
        "numeric = []\n",
        "for i in range(0,len(final_errors)):\n",
        "    for j in range(0,len(final_errors[i])):\n",
        "        numeric.append(final_errors[i][j])\n",
        "# numeric = np.array(numeric).astype(int)"
      ],
      "execution_count": 0,
      "outputs": []
    },
    {
      "cell_type": "code",
      "metadata": {
        "id": "9u03l-RtG925",
        "colab_type": "code",
        "colab": {}
      },
      "source": [
        "datax_stab = np.array(datax_stab).reshape((len(json_files)*len(json_text['X_corrections']),12))\n",
        "dataz_stab = np.array(dataz_stab).reshape((len(json_files)*len(json_text['X_corrections']),12))"
      ],
      "execution_count": 0,
      "outputs": []
    },
    {
      "cell_type": "markdown",
      "metadata": {
        "id": "TQ3GesWHG929",
        "colab_type": "text"
      },
      "source": [
        "indices = []\n",
        "for index, (vectx, vectz) in enumerate(zip(datax_stab,dataz_stab)):\n",
        "        if max(vectx)==0 & max(vectz)==0:\n",
        "            indices.append(index)\n",
        "delete = indices#[:corte]\n",
        "datax_stab=np.delete(datax_stab,delete,axis=0)\n",
        "dataz_stab=np.delete(dataz_stab,delete,axis=0)\n",
        "numeric = np.delete(numeric,delete,axis=0)\n",
        "datax3 = np.array(datax_stab).reshape(len(datax_stab)*3,4)\n",
        "dataz3 = np.array(dataz_stab).reshape(len(datax_stab)*3,4)\n",
        "numeric3 = []\n",
        "for i in range(0,len(datax_stab)):\n",
        "    for j in range(0,3):\n",
        "        numeric3.append(numeric[i])\n",
        "numeric3 = np.array(numeric3)\n",
        "data3_stab = np.concatenate((datax3,dataz3),axis = 1)\n",
        "data3 = np.concatenate((data3_stab,numeric3.reshape(len(datax_stab)*3,1)),axis=1)"
      ]
    },
    {
      "cell_type": "code",
      "metadata": {
        "id": "Wzstr1RdG92-",
        "colab_type": "code",
        "colab": {}
      },
      "source": [
        "indices = []\n",
        "for index, (vectx, vectz) in enumerate(zip(datax_stab,dataz_stab)):\n",
        "        if max(vectx)==0 & max(vectz)==0:\n",
        "            indices.append(index)"
      ],
      "execution_count": 0,
      "outputs": []
    },
    {
      "cell_type": "code",
      "metadata": {
        "id": "GkUGaVmtG93A",
        "colab_type": "code",
        "colab": {}
      },
      "source": [
        "delete = indices[:]   #[:corte]"
      ],
      "execution_count": 0,
      "outputs": []
    },
    {
      "cell_type": "code",
      "metadata": {
        "id": "uvUcia6rG93D",
        "colab_type": "code",
        "colab": {}
      },
      "source": [
        "corte =len(datax_stab)-len(indices)"
      ],
      "execution_count": 0,
      "outputs": []
    },
    {
      "cell_type": "code",
      "metadata": {
        "id": "rN2e8QuzG93F",
        "colab_type": "code",
        "colab": {}
      },
      "source": [
        "datax_stab=np.delete(datax_stab,delete,axis=0)\n",
        "dataz_stab=np.delete(dataz_stab,delete,axis=0)\n",
        "numeric = np.delete(numeric,delete,axis=0)"
      ],
      "execution_count": 0,
      "outputs": []
    },
    {
      "cell_type": "code",
      "metadata": {
        "id": "UIslVvHWG93I",
        "colab_type": "code",
        "colab": {}
      },
      "source": [
        "datax3 = np.array(datax_stab).reshape(len(datax_stab)*3,4)\n",
        "dataz3 = np.array(dataz_stab).reshape(len(datax_stab)*3,4)"
      ],
      "execution_count": 0,
      "outputs": []
    },
    {
      "cell_type": "code",
      "metadata": {
        "id": "0RUv46nAG93K",
        "colab_type": "code",
        "colab": {}
      },
      "source": [
        "numeric3 = []\n",
        "for i in range(0,len(datax_stab)):\n",
        "    for j in range(0,3):\n",
        "        numeric3.append(numeric[i])\n",
        "numeric3 = np.array(numeric3)"
      ],
      "execution_count": 0,
      "outputs": []
    },
    {
      "cell_type": "code",
      "metadata": {
        "id": "FaL0MePOG93O",
        "colab_type": "code",
        "colab": {}
      },
      "source": [
        "data3_stab = np.concatenate((datax3,dataz3),axis = 1)\n",
        "data3 = np.concatenate((data3_stab,numeric3.reshape(len(datax_stab)*3,1)),axis=1)"
      ],
      "execution_count": 0,
      "outputs": []
    },
    {
      "cell_type": "code",
      "metadata": {
        "id": "UrxouEd6f_TP",
        "colab_type": "code",
        "colab": {}
      },
      "source": [
        "from sklearn.linear_model import LogisticRegression\n",
        "from sklearn.metrics import classification_report, confusion_matrix"
      ],
      "execution_count": 0,
      "outputs": []
    },
    {
      "cell_type": "code",
      "metadata": {
        "id": "6_4R1Yx4iHDh",
        "colab_type": "code",
        "colab": {}
      },
      "source": [
        "model = LogisticRegression(solver='liblinear', random_state=0)"
      ],
      "execution_count": 0,
      "outputs": []
    },
    {
      "cell_type": "code",
      "metadata": {
        "id": "0UJS_GM7nW_f",
        "colab_type": "code",
        "outputId": "260ad9ae-9264-4fe1-a0ac-c3324235ad67",
        "colab": {
          "base_uri": "https://localhost:8080/",
          "height": 34
        }
      },
      "source": [
        "len(data3_stab)"
      ],
      "execution_count": 0,
      "outputs": [
        {
          "output_type": "execute_result",
          "data": {
            "text/plain": [
              "2918553"
            ]
          },
          "metadata": {
            "tags": []
          },
          "execution_count": 29
        }
      ]
    },
    {
      "cell_type": "code",
      "metadata": {
        "id": "DAR-ydpFnKxo",
        "colab_type": "code",
        "colab": {}
      },
      "source": [
        "x_training_log = data3_stab[0:round(len(data3_stab)*0.8),]"
      ],
      "execution_count": 0,
      "outputs": []
    },
    {
      "cell_type": "code",
      "metadata": {
        "id": "iZTbjhHXnuTP",
        "colab_type": "code",
        "colab": {}
      },
      "source": [
        "y_training_log = numeric3[0:round(len(data3_stab)*0.8),]"
      ],
      "execution_count": 0,
      "outputs": []
    },
    {
      "cell_type": "code",
      "metadata": {
        "id": "F0v8GPF4nil2",
        "colab_type": "code",
        "colab": {}
      },
      "source": [
        "x_test_log = data3_stab[round(len(data3_stab)*0.8):len(data3_stab),]"
      ],
      "execution_count": 0,
      "outputs": []
    },
    {
      "cell_type": "code",
      "metadata": {
        "id": "dH3Lt_c4nitz",
        "colab_type": "code",
        "colab": {}
      },
      "source": [
        "y_test_log = numeric3[round(len(data3_stab)*0.8):len(data3_stab),]"
      ],
      "execution_count": 0,
      "outputs": []
    },
    {
      "cell_type": "code",
      "metadata": {
        "id": "_UbQmkv3niyP",
        "colab_type": "code",
        "colab": {}
      },
      "source": [
        ""
      ],
      "execution_count": 0,
      "outputs": []
    },
    {
      "cell_type": "code",
      "metadata": {
        "id": "w0iwQOuriUbe",
        "colab_type": "code",
        "outputId": "ecd89e8b-ff03-4e3a-c842-e49b6d73357e",
        "colab": {
          "base_uri": "https://localhost:8080/",
          "height": 102
        }
      },
      "source": [
        "model.fit(x_training_log,y_training_log)"
      ],
      "execution_count": 0,
      "outputs": [
        {
          "output_type": "execute_result",
          "data": {
            "text/plain": [
              "LogisticRegression(C=1.0, class_weight=None, dual=False, fit_intercept=True,\n",
              "                   intercept_scaling=1, l1_ratio=None, max_iter=100,\n",
              "                   multi_class='auto', n_jobs=None, penalty='l2',\n",
              "                   random_state=0, solver='liblinear', tol=0.0001, verbose=0,\n",
              "                   warm_start=False)"
            ]
          },
          "metadata": {
            "tags": []
          },
          "execution_count": 34
        }
      ]
    },
    {
      "cell_type": "code",
      "metadata": {
        "id": "wH_vKGOMoUpT",
        "colab_type": "code",
        "colab": {}
      },
      "source": [
        "y_predicho = model.predict(x_test_log)"
      ],
      "execution_count": 0,
      "outputs": []
    },
    {
      "cell_type": "code",
      "metadata": {
        "id": "A5tCmNWAoUzj",
        "colab_type": "code",
        "outputId": "9a7d10e7-bc97-47a3-cb0e-402770893401",
        "colab": {
          "base_uri": "https://localhost:8080/",
          "height": 34
        }
      },
      "source": [
        "model.score(x_test_log,y_test_log)"
      ],
      "execution_count": 0,
      "outputs": [
        {
          "output_type": "execute_result",
          "data": {
            "text/plain": [
              "0.5451139348067794"
            ]
          },
          "metadata": {
            "tags": []
          },
          "execution_count": 36
        }
      ]
    },
    {
      "cell_type": "code",
      "metadata": {
        "id": "GShwGCLkc7Qh",
        "colab_type": "code",
        "outputId": "4812afbc-5dee-41da-ef37-521f13bfc407",
        "colab": {
          "base_uri": "https://localhost:8080/",
          "height": 34
        }
      },
      "source": [
        "len(data3_stab[0])"
      ],
      "execution_count": 0,
      "outputs": [
        {
          "output_type": "execute_result",
          "data": {
            "text/plain": [
              "8"
            ]
          },
          "metadata": {
            "tags": []
          },
          "execution_count": 37
        }
      ]
    },
    {
      "cell_type": "code",
      "metadata": {
        "id": "P8WZm1tUotZ9",
        "colab_type": "code",
        "outputId": "b14c1342-95b6-44fb-eaf0-22fbbdea9934",
        "colab": {
          "base_uri": "https://localhost:8080/",
          "height": 51
        }
      },
      "source": [
        "confusion_matrix(y_test_log,y_predicho)"
      ],
      "execution_count": 0,
      "outputs": [
        {
          "output_type": "execute_result",
          "data": {
            "text/plain": [
              "array([[314594,   3785],\n",
              "       [261737,   3595]])"
            ]
          },
          "metadata": {
            "tags": []
          },
          "execution_count": 38
        }
      ]
    },
    {
      "cell_type": "code",
      "metadata": {
        "id": "Ro8ixJCsdQ9V",
        "colab_type": "code",
        "outputId": "c2633d87-1a4f-475c-b419-6c0cb644aa14",
        "colab": {
          "base_uri": "https://localhost:8080/",
          "height": 102
        }
      },
      "source": [
        "model\n"
      ],
      "execution_count": 0,
      "outputs": [
        {
          "output_type": "execute_result",
          "data": {
            "text/plain": [
              "LogisticRegression(C=1.0, class_weight=None, dual=False, fit_intercept=True,\n",
              "                   intercept_scaling=1, l1_ratio=None, max_iter=100,\n",
              "                   multi_class='auto', n_jobs=None, penalty='l2',\n",
              "                   random_state=0, solver='liblinear', tol=0.0001, verbose=0,\n",
              "                   warm_start=False)"
            ]
          },
          "metadata": {
            "tags": []
          },
          "execution_count": 39
        }
      ]
    },
    {
      "cell_type": "code",
      "metadata": {
        "id": "XYh0g_daeenh",
        "colab_type": "code",
        "colab": {}
      },
      "source": [
        "from sklearn.linear_model import LogisticRegression\n",
        "from sklearn.metrics import classification_report, confusion_matrix"
      ],
      "execution_count": 0,
      "outputs": []
    },
    {
      "cell_type": "markdown",
      "metadata": {
        "id": "krCl9LnMGzwp",
        "colab_type": "text"
      },
      "source": [
        "### RandomForest\n"
      ]
    },
    {
      "cell_type": "code",
      "metadata": {
        "id": "0594w_dQG1Pf",
        "colab_type": "code",
        "outputId": "28ab026c-8879-4c25-91bb-c40c3c79d8a0",
        "colab": {
          "base_uri": "https://localhost:8080/",
          "height": 153
        }
      },
      "source": [
        "from sklearn.ensemble import RandomForestClassifier\n",
        "from sklearn.model_selection import train_test_split\n",
        "from sklearn.preprocessing import MinMaxScaler, StandardScaler\n",
        "\n",
        "# Create the model with 100 trees\n",
        "model = RandomForestClassifier(n_estimators=100, \n",
        "                               bootstrap = True,\n",
        "                               max_features = 'sqrt')\n",
        "\n",
        "#RF_X_train Set X para entrenamiento en Random Forest\n",
        "RF_X_train, RF_X_test, RF_y_train, RF_y_test = train_test_split(data3_stab, numeric3, test_size=0.20, random_state=0)\n",
        "\n",
        "# Fit on training data\n",
        "model.fit(RF_X_train, RF_y_train)"
      ],
      "execution_count": 0,
      "outputs": [
        {
          "output_type": "execute_result",
          "data": {
            "text/plain": [
              "RandomForestClassifier(bootstrap=True, ccp_alpha=0.0, class_weight=None,\n",
              "                       criterion='gini', max_depth=None, max_features='sqrt',\n",
              "                       max_leaf_nodes=None, max_samples=None,\n",
              "                       min_impurity_decrease=0.0, min_impurity_split=None,\n",
              "                       min_samples_leaf=1, min_samples_split=2,\n",
              "                       min_weight_fraction_leaf=0.0, n_estimators=100,\n",
              "                       n_jobs=None, oob_score=False, random_state=None,\n",
              "                       verbose=0, warm_start=False)"
            ]
          },
          "metadata": {
            "tags": []
          },
          "execution_count": 41
        }
      ]
    },
    {
      "cell_type": "code",
      "metadata": {
        "id": "RF4umgmtG9j6",
        "colab_type": "code",
        "colab": {}
      },
      "source": [
        "# Actual class predictions\n",
        "rf_predictions = model.predict(RF_X_test)\n",
        "# Probabilities for each class\n",
        "rf_probs = model.predict_proba(RF_X_test)[:,1]"
      ],
      "execution_count": 0,
      "outputs": []
    },
    {
      "cell_type": "code",
      "metadata": {
        "id": "WfQzucyJHixj",
        "colab_type": "code",
        "colab": {}
      },
      "source": [
        "from sklearn.metrics import roc_auc_score\n",
        "\n",
        "# Calculate roc auc\n",
        "roc_value = roc_auc_score(RF_y_test, rf_probs)"
      ],
      "execution_count": 0,
      "outputs": []
    },
    {
      "cell_type": "code",
      "metadata": {
        "id": "4fquEOudHlK7",
        "colab_type": "code",
        "colab": {}
      },
      "source": [
        "# Make probability predictions\n",
        "train_probs = model.predict_proba(RF_X_train)[:, 1]\n",
        "probs = model.predict_proba(RF_X_test)[:, 1]"
      ],
      "execution_count": 0,
      "outputs": []
    },
    {
      "cell_type": "code",
      "metadata": {
        "id": "lHafsWWQK6-0",
        "colab_type": "code",
        "outputId": "0ed06193-eafa-494f-ded7-54a0b7ebc91c",
        "colab": {
          "base_uri": "https://localhost:8080/",
          "height": 51
        }
      },
      "source": [
        "print(f'Train ROC AUC Score: {roc_auc_score(RF_y_train, train_probs)}')\n",
        "print(f'Test ROC AUC  Score: {roc_auc_score(RF_y_test, probs)}')"
      ],
      "execution_count": 0,
      "outputs": [
        {
          "output_type": "stream",
          "text": [
            "Train ROC AUC Score: 0.5270794278729302\n",
            "Test ROC AUC  Score: 0.526251539787373\n"
          ],
          "name": "stdout"
        }
      ]
    },
    {
      "cell_type": "markdown",
      "metadata": {
        "id": "ZjyWANZoLCuZ",
        "colab_type": "text"
      },
      "source": [
        "Métrica para RandomForest curva ROC (curva de característica operativa del recepto) https://developers.google.com/machine-learning/crash-course/classification/roc-and-auc"
      ]
    },
    {
      "cell_type": "code",
      "metadata": {
        "id": "wd3G_JfFLAGy",
        "colab_type": "code",
        "outputId": "6811f509-f02b-484e-83cb-a28102faa102",
        "colab": {
          "base_uri": "https://localhost:8080/",
          "height": 34
        }
      },
      "source": [
        "roc_value"
      ],
      "execution_count": 0,
      "outputs": [
        {
          "output_type": "execute_result",
          "data": {
            "text/plain": [
              "0.526251539787373"
            ]
          },
          "metadata": {
            "tags": []
          },
          "execution_count": 46
        }
      ]
    },
    {
      "cell_type": "markdown",
      "metadata": {
        "id": "OBxPe9WaLIcf",
        "colab_type": "text"
      },
      "source": [
        "The final testing ROC AUC for the random forest was 0.5262\n",
        "\n",
        "The perfect value for ROC AUC value is 1.0"
      ]
    },
    {
      "cell_type": "code",
      "metadata": {
        "id": "HHoYQU3tLHk-",
        "colab_type": "code",
        "colab": {}
      },
      "source": [
        "from sklearn.metrics import roc_curve\n",
        "\n",
        "FPR, TPR, thresholds = roc_curve(RF_y_test, rf_probs, pos_label=None, sample_weight=None, drop_intermediate=True)"
      ],
      "execution_count": 0,
      "outputs": []
    },
    {
      "cell_type": "code",
      "metadata": {
        "id": "_IOT_BJFLVDO",
        "colab_type": "code",
        "outputId": "61de3c7f-c2f1-41fc-f180-58f89ea51d4b",
        "colab": {
          "base_uri": "https://localhost:8080/",
          "height": 279
        }
      },
      "source": [
        "from matplotlib import pyplot\n",
        "\n",
        "# plot the roc curve for the model\n",
        "pyplot.plot(FPR, TPR, marker='.', label='RandomForest')\n",
        "# axis labels\n",
        "pyplot.xlabel('False Positive Rate')\n",
        "pyplot.ylabel('True Positive Rate')\n",
        "# show the legend\n",
        "pyplot.legend()\n",
        "# show the plot\n",
        "pyplot.show()"
      ],
      "execution_count": 0,
      "outputs": [
        {
          "output_type": "display_data",
          "data": {
            "image/png": "[encoded data removed]",
            "text/plain": [
              "<Figure size 432x288 with 1 Axes>"
            ]
          },
          "metadata": {
            "tags": [],
            "needs_background": "light"
          }
        }
      ]
    },
    {
      "cell_type": "code",
      "metadata": {
        "id": "zuR-Na3zLXL7",
        "colab_type": "code",
        "outputId": "577a69bd-93dd-41d0-9111-a9b31a1af2e7",
        "colab": {
          "base_uri": "https://localhost:8080/",
          "height": 51
        }
      },
      "source": [
        "#ConfusionMatrix\n",
        "\n",
        "confusion_matrix(RF_y_test,rf_predictions)"
      ],
      "execution_count": 0,
      "outputs": [
        {
          "output_type": "execute_result",
          "data": {
            "text/plain": [
              "array([[317461,   1593],\n",
              "       [263184,   1473]])"
            ]
          },
          "metadata": {
            "tags": []
          },
          "execution_count": 49
        }
      ]
    },
    {
      "cell_type": "code",
      "metadata": {
        "id": "8_kn2lNpLgyy",
        "colab_type": "code",
        "outputId": "c8f2d45b-c609-4890-ea09-a8324b331969",
        "colab": {
          "base_uri": "https://localhost:8080/",
          "height": 170
        }
      },
      "source": [
        "print(classification_report(RF_y_test, rf_predictions))"
      ],
      "execution_count": 0,
      "outputs": [
        {
          "output_type": "stream",
          "text": [
            "              precision    recall  f1-score   support\n",
            "\n",
            "       False       0.55      1.00      0.71    319054\n",
            "        True       0.48      0.01      0.01    264657\n",
            "\n",
            "    accuracy                           0.55    583711\n",
            "   macro avg       0.51      0.50      0.36    583711\n",
            "weighted avg       0.52      0.55      0.39    583711\n",
            "\n"
          ],
          "name": "stdout"
        }
      ]
    },
    {
      "cell_type": "markdown",
      "metadata": {
        "id": "F4XzblFCGwGx",
        "colab_type": "text"
      },
      "source": [
        "### Optimización Random Forest con CV Search"
      ]
    },
    {
      "cell_type": "code",
      "metadata": {
        "id": "scAFUL4FLn8_",
        "colab_type": "code",
        "colab": {}
      },
      "source": [
        "from sklearn.model_selection import RandomizedSearchCV\n",
        "\n",
        "# Hyperparameter grid\n",
        "param_grid = {\n",
        "    'n_estimators': np.linspace(10, 200).astype(int),\n",
        "    'max_depth': [None] + list(np.linspace(3, 20).astype(int)),\n",
        "    'max_features': ['auto', 'sqrt', None] + list(np.arange(0.5, 1, 0.1)),\n",
        "    'max_leaf_nodes': [None] + list(np.linspace(10, 50, 500).astype(int)),\n",
        "    'min_samples_split': [2, 5, 10],\n",
        "    'bootstrap': [True, False]\n",
        "}\n",
        "\n",
        "# Estimator for use in random search\n",
        "estimator = RandomForestClassifier()"
      ],
      "execution_count": 0,
      "outputs": []
    },
    {
      "cell_type": "code",
      "metadata": {
        "id": "5A2JRSr1LsZK",
        "colab_type": "code",
        "colab": {}
      },
      "source": [
        "# Create the random search model\n",
        "rf = RandomizedSearchCV(estimator, param_grid, n_jobs = -1, \n",
        "                        scoring = 'roc_auc', cv = 3, \n",
        "                        n_iter = 10, verbose = 1)"
      ],
      "execution_count": 0,
      "outputs": []
    },
    {
      "cell_type": "code",
      "metadata": {
        "id": "6_BcawoPLwWc",
        "colab_type": "code",
        "outputId": "89c8a47b-4a97-46ee-cf13-6380e5f92a73",
        "colab": {
          "base_uri": "https://localhost:8080/",
          "height": 476
        }
      },
      "source": [
        "# Fit \n",
        "rf.fit(RF_X_train, RF_y_train)"
      ],
      "execution_count": 0,
      "outputs": [
        {
          "output_type": "stream",
          "text": [
            "Fitting 3 folds for each of 10 candidates, totalling 30 fits\n"
          ],
          "name": "stdout"
        },
        {
          "output_type": "stream",
          "text": [
            "[Parallel(n_jobs=-1)]: Using backend LokyBackend with 2 concurrent workers.\n",
            "[Parallel(n_jobs=-1)]: Done  30 out of  30 | elapsed: 40.4min finished\n"
          ],
          "name": "stderr"
        },
        {
          "output_type": "execute_result",
          "data": {
            "text/plain": [
              "RandomizedSearchCV(cv=3, error_score=nan,\n",
              "                   estimator=RandomForestClassifier(bootstrap=True,\n",
              "                                                    ccp_alpha=0.0,\n",
              "                                                    class_weight=None,\n",
              "                                                    criterion='gini',\n",
              "                                                    max_depth=None,\n",
              "                                                    max_features='auto',\n",
              "                                                    max_leaf_nodes=None,\n",
              "                                                    max_samples=None,\n",
              "                                                    min_impurity_decrease=0.0,\n",
              "                                                    min_impurity_split=None,\n",
              "                                                    min_samples_leaf=1,\n",
              "                                                    min_samples_split=2,\n",
              "                                                    min_weight_fraction_leaf=0.0,\n",
              "                                                    n_estimators=100,\n",
              "                                                    n_jobs...\n",
              "                                                           11, 12, 12, 12, 12, ...],\n",
              "                                        'min_samples_split': [2, 5, 10],\n",
              "                                        'n_estimators': array([ 10,  13,  17,  21,  25,  29,  33,  37,  41,  44,  48,  52,  56,\n",
              "        60,  64,  68,  72,  75,  79,  83,  87,  91,  95,  99, 103, 106,\n",
              "       110, 114, 118, 122, 126, 130, 134, 137, 141, 145, 149, 153, 157,\n",
              "       161, 165, 168, 172, 176, 180, 184, 188, 192, 196, 200])},\n",
              "                   pre_dispatch='2*n_jobs', random_state=None, refit=True,\n",
              "                   return_train_score=False, scoring='roc_auc', verbose=1)"
            ]
          },
          "metadata": {
            "tags": []
          },
          "execution_count": 54
        }
      ]
    },
    {
      "cell_type": "code",
      "metadata": {
        "id": "WvCgals5L2Vx",
        "colab_type": "code",
        "outputId": "b656eecb-cb19-4cbf-e5c3-7c6f9f853992",
        "colab": {
          "base_uri": "https://localhost:8080/",
          "height": 119
        }
      },
      "source": [
        "rf.best_params_"
      ],
      "execution_count": 0,
      "outputs": [
        {
          "output_type": "execute_result",
          "data": {
            "text/plain": [
              "{'bootstrap': True,\n",
              " 'max_depth': 14,\n",
              " 'max_features': 'sqrt',\n",
              " 'max_leaf_nodes': 30,\n",
              " 'min_samples_split': 2,\n",
              " 'n_estimators': 196}"
            ]
          },
          "metadata": {
            "tags": []
          },
          "execution_count": 55
        }
      ]
    },
    {
      "cell_type": "code",
      "metadata": {
        "id": "b5csNkbRL3IW",
        "colab_type": "code",
        "colab": {}
      },
      "source": [
        "#Modelo Optimiazado\n",
        "\n",
        "best_model = rf.best_estimator_"
      ],
      "execution_count": 0,
      "outputs": []
    },
    {
      "cell_type": "code",
      "metadata": {
        "id": "Q-xiqoB-L56a",
        "colab_type": "code",
        "colab": {}
      },
      "source": [
        "train_rf_predictions = best_model.predict(RF_X_train)\n",
        "train_rf_probs = best_model.predict_proba(RF_X_train)[:, 1]\n",
        "\n",
        "rf_predictions = best_model.predict(RF_X_test)\n",
        "rf_probs = best_model.predict_proba(RF_X_test)[:, 1]"
      ],
      "execution_count": 0,
      "outputs": []
    },
    {
      "cell_type": "code",
      "metadata": {
        "id": "t5bYbjaKL8pS",
        "colab_type": "code",
        "colab": {}
      },
      "source": [
        "%matplotlib inline"
      ],
      "execution_count": 0,
      "outputs": []
    },
    {
      "cell_type": "code",
      "metadata": {
        "id": "h9v2CZBCL-4O",
        "colab_type": "code",
        "outputId": "aad0a14f-e2ec-4475-e2fe-5942e7a3c020",
        "colab": {
          "base_uri": "https://localhost:8080/",
          "height": 71
        }
      },
      "source": [
        "from sklearn.metrics import precision_score, recall_score, roc_auc_score, roc_curve\n",
        "import matplotlib.pyplot as plt\n",
        "import seaborn as sns\n",
        "\n",
        "def evaluate_model(predictions, probs, train_predictions, train_probs,test_labels = RF_y_test ,train_labels= RF_y_train):\n",
        "    \"\"\"Compare machine learning model to baseline performance.\n",
        "    Computes statistics and shows ROC curve.\"\"\"\n",
        "    \n",
        "    baseline = {}\n",
        "    \n",
        "    baseline['recall'] = recall_score(test_labels, [1 for _ in range(len(test_labels))])\n",
        "    baseline['precision'] = precision_score(test_labels, [1 for _ in range(len(test_labels))])\n",
        "    baseline['roc'] = 0.5\n",
        "    \n",
        "    results = {}\n",
        "    \n",
        "    results['recall'] = recall_score(test_labels, predictions)\n",
        "    results['precision'] = precision_score(test_labels, predictions)\n",
        "    results['roc'] = roc_auc_score(test_labels, probs)\n",
        "    \n",
        "    train_results = {}\n",
        "    train_results['recall'] = recall_score(train_labels, train_predictions)\n",
        "    train_results['precision'] = precision_score(train_labels, train_predictions)\n",
        "    train_results['roc'] = roc_auc_score(train_labels, train_probs)\n",
        "    \n",
        "    for metric in ['recall', 'precision', 'roc']:\n",
        "        print(f'{metric.capitalize()} Baseline: {round(baseline[metric], 2)} Test: {round(results[metric], 2)} Train: {round(train_results[metric], 2)}')\n",
        "    \n",
        "    # Calculate false positive rates and true positive rates\n",
        "    base_fpr, base_tpr, _ = roc_curve(test_labels, [1 for _ in range(len(test_labels))])\n",
        "    model_fpr, model_tpr, _ = roc_curve(test_labels, probs)\n",
        "\n",
        "    plt.figure(figsize = (8, 6))\n",
        "    plt.rcParams['font.size'] = 16\n",
        "    \n",
        "    # Plot both curves\n",
        "    plt.plot(base_fpr, base_tpr, 'b', label = 'baseline')\n",
        "    plt.plot(model_fpr, model_tpr, 'r', label = 'model')\n",
        "    plt.legend();\n",
        "    plt.xlabel('False Positive Rate'); plt.ylabel('True Positive Rate'); plt.title('ROC Curves');"
      ],
      "execution_count": 0,
      "outputs": [
        {
          "output_type": "stream",
          "text": [
            "/usr/local/lib/python3.6/dist-packages/statsmodels/tools/_testing.py:19: FutureWarning: pandas.util.testing is deprecated. Use the functions in the public API at pandas.testing instead.\n",
            "  import pandas.util.testing as tm\n"
          ],
          "name": "stderr"
        }
      ]
    },
    {
      "cell_type": "code",
      "metadata": {
        "id": "n727A7yYMC_d",
        "colab_type": "code",
        "outputId": "c83951c3-1b0e-41b2-a37d-375c084d0d77",
        "colab": {
          "base_uri": "https://localhost:8080/",
          "height": 558
        }
      },
      "source": [
        "evaluate_model(rf_predictions, rf_probs, train_rf_predictions, train_rf_probs)"
      ],
      "execution_count": 0,
      "outputs": [
        {
          "output_type": "stream",
          "text": [
            "/usr/local/lib/python3.6/dist-packages/sklearn/metrics/_classification.py:1272: UndefinedMetricWarning: Precision is ill-defined and being set to 0.0 due to no predicted samples. Use `zero_division` parameter to control this behavior.\n",
            "  _warn_prf(average, modifier, msg_start, len(result))\n",
            "/usr/local/lib/python3.6/dist-packages/sklearn/metrics/_classification.py:1272: UndefinedMetricWarning: Precision is ill-defined and being set to 0.0 due to no predicted samples. Use `zero_division` parameter to control this behavior.\n",
            "  _warn_prf(average, modifier, msg_start, len(result))\n"
          ],
          "name": "stderr"
        },
        {
          "output_type": "stream",
          "text": [
            "Recall Baseline: 1.0 Test: 0.0 Train: 0.0\n",
            "Precision Baseline: 0.45 Test: 0.0 Train: 0.0\n",
            "Roc Baseline: 0.5 Test: 0.53 Train: 0.53\n"
          ],
          "name": "stdout"
        },
        {
          "output_type": "display_data",
          "data": {
            "image/png": "[encoded data removed]",
            "text/plain": [
              "<Figure size 576x432 with 1 Axes>"
            ]
          },
          "metadata": {
            "tags": [],
            "needs_background": "light"
          }
        }
      ]
    },
    {
      "cell_type": "code",
      "metadata": {
        "id": "_afcByFpML6u",
        "colab_type": "code",
        "outputId": "9845152a-92b7-41f3-acdf-10a44ce43e87",
        "colab": {
          "base_uri": "https://localhost:8080/",
          "height": 51
        }
      },
      "source": [
        "print(f'Train ROC AUC Score: {roc_auc_score(RF_y_train, train_rf_probs)}')\n",
        "print(f'Test ROC AUC  Score: {roc_auc_score(RF_y_test, rf_probs)}')"
      ],
      "execution_count": 0,
      "outputs": [
        {
          "output_type": "stream",
          "text": [
            "Train ROC AUC Score: 0.5264573648614457\n",
            "Test ROC AUC  Score: 0.5269045133421166\n"
          ],
          "name": "stdout"
        }
      ]
    },
    {
      "cell_type": "markdown",
      "metadata": {
        "id": "5i2KRS7tMGTS",
        "colab_type": "text"
      },
      "source": [
        "### Red Recurrente"
      ]
    },
    {
      "cell_type": "code",
      "metadata": {
        "id": "4qJSQyDMG93Q",
        "colab_type": "code",
        "colab": {}
      },
      "source": [
        "np.savetxt('training_p01.csv',data3,delimiter=\",\")"
      ],
      "execution_count": 0,
      "outputs": []
    },
    {
      "cell_type": "code",
      "metadata": {
        "id": "9nPMHmRsG93T",
        "colab_type": "code",
        "colab": {}
      },
      "source": [
        "def separar_secuencia(secuencia,pasos_tiempo):\n",
        "    x, y = list(), list()\n",
        "    for i in range(len(secuencia)):\n",
        "        final_ix = i +pasos_tiempo\n",
        "        if final_ix > len(secuencia)-1:\n",
        "            break\n",
        "        #juntamos la serie y resultado del siguiente paso\n",
        "        seq_x, seq_y = secuencia[i:final_ix,:-1], secuencia[final_ix-1,-1]\n",
        "        x.append(seq_x)\n",
        "        y.append(seq_y)\n",
        "    return np.array(x), np.array(y)"
      ],
      "execution_count": 0,
      "outputs": []
    },
    {
      "cell_type": "code",
      "metadata": {
        "id": "urowQAmBG93V",
        "colab_type": "code",
        "colab": {}
      },
      "source": [
        "pasos_tiempo3 = 3\n",
        "x3_0, y3_0 = separar_secuencia(data3,pasos_tiempo3)"
      ],
      "execution_count": 0,
      "outputs": []
    },
    {
      "cell_type": "code",
      "metadata": {
        "id": "BajpbG47G93X",
        "colab_type": "code",
        "colab": {}
      },
      "source": [
        "x3 = []\n",
        "y3 = []\n",
        "for index in range(0,len(x3_0)):\n",
        "    if index==0:\n",
        "        x3.append(x3_0[index])\n",
        "    elif index%3 == 0:\n",
        "        x3.append(x3_0[index])\n",
        "for index in range(0,len(y3_0)):\n",
        "    if index==0:\n",
        "        y3.append(y3_0[index])\n",
        "    elif index%3 == 0:\n",
        "        y3.append(y3_0[index])\n",
        "x3 = np.array(x3)\n",
        "y3 = np.array(y3)"
      ],
      "execution_count": 0,
      "outputs": []
    },
    {
      "cell_type": "code",
      "metadata": {
        "id": "JVUW-r2tG93Z",
        "colab_type": "code",
        "colab": {}
      },
      "source": [
        "indices = np.arange(x3.shape[0])"
      ],
      "execution_count": 0,
      "outputs": []
    },
    {
      "cell_type": "code",
      "metadata": {
        "id": "pMD-TqoZG93f",
        "colab_type": "code",
        "colab": {}
      },
      "source": [
        "np.random.shuffle(indices)"
      ],
      "execution_count": 0,
      "outputs": []
    },
    {
      "cell_type": "code",
      "metadata": {
        "id": "GIlIDCHSG93i",
        "colab_type": "code",
        "colab": {}
      },
      "source": [
        "x3 = x3[indices]\n",
        "y3 = y3[indices]"
      ],
      "execution_count": 0,
      "outputs": []
    },
    {
      "cell_type": "code",
      "metadata": {
        "id": "SbpWELViG93m",
        "colab_type": "code",
        "colab": {}
      },
      "source": [
        "x_train3 = x3[0:round(len(x3)*0.8)]\n",
        "y_train3 = y3[0:round(len(y3)*0.8)]\n",
        "x_test3 = x3[round(len(x3)*0.8):len(x3)]\n",
        "y_test3 = y3[round(len(y3)*0.8):len(y3)]"
      ],
      "execution_count": 0,
      "outputs": []
    },
    {
      "cell_type": "code",
      "metadata": {
        "id": "IIFQjOQ8G93p",
        "colab_type": "code",
        "colab": {}
      },
      "source": [
        "y_train3= keras.utils.to_categorical(y_train3,num_classes=2)\n",
        "y_test3 = keras.utils.to_categorical(y_test3,num_classes=2)"
      ],
      "execution_count": 0,
      "outputs": []
    },
    {
      "cell_type": "code",
      "metadata": {
        "id": "lGgzIpBzG93r",
        "colab_type": "code",
        "colab": {}
      },
      "source": [
        "n_stab3 = 8"
      ],
      "execution_count": 0,
      "outputs": []
    },
    {
      "cell_type": "code",
      "metadata": {
        "id": "-eb0dgnLG93u",
        "colab_type": "code",
        "colab": {}
      },
      "source": [
        "model3 = Sequential()\n",
        "model3.add(LSTM(128,\n",
        "               activation = 'relu',\n",
        "               return_sequences = True,\n",
        "               input_shape = (pasos_tiempo3,n_stab3)))\n",
        "model3.add(LSTM(64, activation='relu'))\n",
        "model3.add(Dropout(0.5))\n",
        "model3.add(Dense(64,activation = 'relu'))\n",
        "model3.add(Dropout(0.3))\n",
        "model3.add(Dense(32,activation = 'relu'))\n",
        "model3.add(Dropout(0.3))\n",
        "model3.add(Dense(16,activation = 'relu'))\n",
        "model3.add(Dense(2, activation='softmax'))"
      ],
      "execution_count": 0,
      "outputs": []
    },
    {
      "cell_type": "code",
      "metadata": {
        "id": "x0ZCBN_IG93x",
        "colab_type": "code",
        "colab": {}
      },
      "source": [
        "model3.compile(loss='categorical_crossentropy',\n",
        "              optimizer='rmsprop',\n",
        "              metrics=['accuracy'])"
      ],
      "execution_count": 0,
      "outputs": []
    },
    {
      "cell_type": "code",
      "metadata": {
        "collapsed": true,
        "jupyter": {
          "outputs_hidden": true
        },
        "id": "VL79iFFIG93z",
        "colab_type": "code",
        "outputId": "6958a26a-8ee5-4b7c-f0f3-162efda7cbdd",
        "colab": {
          "base_uri": "https://localhost:8080/",
          "height": 714
        }
      },
      "source": [
        "history = model3.fit(x_train3, y_train3,batch_size=300, epochs=20,validation_data=(x_test3 ,y_test3 ),verbose=1)"
      ],
      "execution_count": 0,
      "outputs": [
        {
          "output_type": "stream",
          "text": [
            "Train on 778280 samples, validate on 194570 samples\n",
            "Epoch 1/20\n",
            "778280/778280 [==============================] - 43s 55us/step - loss: 0.6869 - accuracy: 0.5444 - val_loss: 0.6861 - val_accuracy: 0.5456\n",
            "Epoch 2/20\n",
            "778280/778280 [==============================] - 43s 55us/step - loss: 0.6868 - accuracy: 0.5447 - val_loss: 0.6862 - val_accuracy: 0.5456\n",
            "Epoch 3/20\n",
            "778280/778280 [==============================] - 45s 57us/step - loss: 0.6871 - accuracy: 0.5450 - val_loss: 0.6865 - val_accuracy: 0.5456\n",
            "Epoch 4/20\n",
            "778280/778280 [==============================] - 44s 56us/step - loss: 0.6868 - accuracy: 0.5450 - val_loss: 0.6863 - val_accuracy: 0.5456\n",
            "Epoch 5/20\n",
            "778280/778280 [==============================] - 43s 56us/step - loss: 0.6868 - accuracy: 0.5451 - val_loss: 0.6861 - val_accuracy: 0.5456\n",
            "Epoch 6/20\n",
            "778280/778280 [==============================] - 43s 55us/step - loss: 0.6868 - accuracy: 0.5447 - val_loss: 0.6865 - val_accuracy: 0.5456\n",
            "Epoch 7/20\n",
            "778280/778280 [==============================] - 44s 57us/step - loss: 0.6865 - accuracy: 0.5448 - val_loss: 0.6865 - val_accuracy: 0.5456\n",
            "Epoch 8/20\n",
            "778280/778280 [==============================] - 43s 55us/step - loss: 0.6865 - accuracy: 0.5448 - val_loss: 0.6881 - val_accuracy: 0.5456\n",
            "Epoch 9/20\n",
            "778280/778280 [==============================] - 43s 55us/step - loss: 0.6870 - accuracy: 0.5449 - val_loss: 0.6866 - val_accuracy: 0.5456\n",
            "Epoch 10/20\n",
            "778280/778280 [==============================] - 42s 54us/step - loss: 0.6868 - accuracy: 0.5450 - val_loss: 0.6865 - val_accuracy: 0.5456\n",
            "Epoch 11/20\n",
            "778280/778280 [==============================] - 42s 55us/step - loss: 0.6868 - accuracy: 0.5450 - val_loss: 0.6864 - val_accuracy: 0.5456\n",
            "Epoch 12/20\n",
            "778280/778280 [==============================] - 43s 55us/step - loss: 0.6874 - accuracy: 0.5451 - val_loss: 0.6859 - val_accuracy: 0.5456\n",
            "Epoch 13/20\n",
            "778280/778280 [==============================] - 43s 55us/step - loss: 0.6867 - accuracy: 0.5450 - val_loss: 0.6879 - val_accuracy: 0.5456\n",
            "Epoch 14/20\n",
            "778280/778280 [==============================] - 43s 55us/step - loss: 0.6871 - accuracy: 0.5445 - val_loss: 0.6864 - val_accuracy: 0.5456\n",
            "Epoch 15/20\n",
            "778280/778280 [==============================] - 42s 55us/step - loss: 0.6871 - accuracy: 0.5447 - val_loss: 0.6929 - val_accuracy: 0.5456\n",
            "Epoch 16/20\n",
            "778280/778280 [==============================] - 42s 54us/step - loss: 0.6867 - accuracy: 0.5449 - val_loss: 0.6865 - val_accuracy: 0.5456\n",
            "Epoch 17/20\n",
            "778280/778280 [==============================] - 42s 54us/step - loss: 0.6868 - accuracy: 0.5449 - val_loss: 0.6870 - val_accuracy: 0.5456\n",
            "Epoch 18/20\n",
            "778280/778280 [==============================] - 42s 54us/step - loss: 0.6870 - accuracy: 0.5450 - val_loss: 0.6862 - val_accuracy: 0.5456\n",
            "Epoch 19/20\n",
            "778280/778280 [==============================] - 42s 54us/step - loss: 0.6878 - accuracy: 0.5452 - val_loss: 0.6870 - val_accuracy: 0.5456\n",
            "Epoch 20/20\n",
            "778280/778280 [==============================] - 42s 55us/step - loss: 0.6877 - accuracy: 0.5449 - val_loss: 0.6874 - val_accuracy: 0.5456\n"
          ],
          "name": "stdout"
        }
      ]
    },
    {
      "cell_type": "code",
      "metadata": {
        "id": "ZHnr9StMaBcd",
        "colab_type": "code",
        "colab": {}
      },
      "source": [
        "import matplotlib.pyplot as plt\n",
        "\n",
        "\n",
        "def plot_graphs(history, string):\n",
        "  plt.plot(history.history[string])\n",
        "  plt.plot(history.history['val_'+string])\n",
        "  plt.xlabel(\"Epochs\")\n",
        "  plt.ylabel(string)\n",
        "  plt.legend([string, 'val_'+string])\n",
        "  plt.show()"
      ],
      "execution_count": 0,
      "outputs": []
    },
    {
      "cell_type": "code",
      "metadata": {
        "id": "jfptQC3BaIk_",
        "colab_type": "code",
        "outputId": "f7e2522a-9004-4a93-953d-7a7c0103e91a",
        "colab": {
          "base_uri": "https://localhost:8080/",
          "height": 289
        }
      },
      "source": [
        "plot_graphs(history, 'accuracy')"
      ],
      "execution_count": 0,
      "outputs": [
        {
          "output_type": "display_data",
          "data": {
            "image/png": "[encoded data removed]",
            "text/plain": [
              "<Figure size 432x288 with 1 Axes>"
            ]
          },
          "metadata": {
            "tags": [],
            "needs_background": "light"
          }
        }
      ]
    },
    {
      "cell_type": "code",
      "metadata": {
        "id": "JThkBLhsaKIM",
        "colab_type": "code",
        "outputId": "ff180656-c261-4805-b694-a5c166a23813",
        "colab": {
          "base_uri": "https://localhost:8080/",
          "height": 289
        }
      },
      "source": [
        "plot_graphs(history, 'loss')"
      ],
      "execution_count": 0,
      "outputs": [
        {
          "output_type": "display_data",
          "data": {
            "image/png": "[encoded data removed]",
            "text/plain": [
              "<Figure size 432x288 with 1 Axes>"
            ]
          },
          "metadata": {
            "tags": [],
            "needs_background": "light"
          }
        }
      ]
    },
    {
      "cell_type": "code",
      "metadata": {
        "id": "5Jt6lF9BG932",
        "colab_type": "code",
        "colab": {}
      },
      "source": [
        "model3.save('modelo.h5')"
      ],
      "execution_count": 0,
      "outputs": []
    },
    {
      "cell_type": "code",
      "metadata": {
        "id": "OXgiaZXnG935",
        "colab_type": "code",
        "outputId": "4dba3b8a-ee78-4454-b5d1-247686d2fcf7",
        "colab": {}
      },
      "source": [
        "score3 = model3.evaluate(x_test3, y_test3, batch_size=256)\n",
        "score3"
      ],
      "execution_count": 0,
      "outputs": [
        {
          "output_type": "stream",
          "text": [
            "324000/324000 [==============================] - 9s 29us/step\n"
          ],
          "name": "stdout"
        },
        {
          "output_type": "execute_result",
          "data": {
            "text/plain": [
              "[0.5007690983171816, 0.7523765431981028]"
            ]
          },
          "metadata": {
            "tags": []
          },
          "execution_count": 72
        }
      ]
    },
    {
      "cell_type": "code",
      "metadata": {
        "id": "WxOtX-o0G937",
        "colab_type": "code",
        "colab": {}
      },
      "source": [
        "from keras.models import load_model"
      ],
      "execution_count": 0,
      "outputs": []
    },
    {
      "cell_type": "code",
      "metadata": {
        "id": "8AMBJa1zG939",
        "colab_type": "code",
        "outputId": "194c19a5-cf39-4b7a-ab84-5e2ac0fa282c",
        "colab": {}
      },
      "source": [
        "model3 = load_model('modelo.h5')"
      ],
      "execution_count": 0,
      "outputs": [
        {
          "output_type": "stream",
          "text": [
            "WARNING:tensorflow:From C:\\Users\\daoban\\AppData\\Local\\Continuum\\anaconda3\\lib\\site-packages\\tensorflow\\python\\framework\\op_def_library.py:263: colocate_with (from tensorflow.python.framework.ops) is deprecated and will be removed in a future version.\n",
            "Instructions for updating:\n",
            "Colocations handled automatically by placer.\n",
            "WARNING:tensorflow:From C:\\Users\\daoban\\AppData\\Local\\Continuum\\anaconda3\\lib\\site-packages\\keras\\backend\\tensorflow_backend.py:3445: calling dropout (from tensorflow.python.ops.nn_ops) with keep_prob is deprecated and will be removed in a future version.\n",
            "Instructions for updating:\n",
            "Please use `rate` instead of `keep_prob`. Rate should be set to `rate = 1 - keep_prob`.\n",
            "WARNING:tensorflow:From C:\\Users\\daoban\\AppData\\Local\\Continuum\\anaconda3\\lib\\site-packages\\tensorflow\\python\\ops\\math_ops.py:3066: to_int32 (from tensorflow.python.ops.math_ops) is deprecated and will be removed in a future version.\n",
            "Instructions for updating:\n",
            "Use tf.cast instead.\n"
          ],
          "name": "stdout"
        }
      ]
    },
    {
      "cell_type": "code",
      "metadata": {
        "id": "C0lgE6xTG94A",
        "colab_type": "code",
        "colab": {}
      },
      "source": [
        "texto = \"\"\"x_correc_02e = []\n",
        "x_stab_02e = []\n",
        "z_correc_02e = []\n",
        "z_stab_02e = []\n",
        "final_errors_02e = []\n",
        "with open(path_to_json+'0_2.json') as json_file:\n",
        "    json_text = json.load(json_file)\n",
        "x_correc_02e.append(json_text['X_corrections'])\n",
        "x_stab_02e.append(json_text['X_stab_outcomes'])\n",
        "z_correc_02e.append(json_text['Z_corrections'])\n",
        "z_stab_02e.append(json_text['Z_stab_outcomes'])\n",
        "final_errors_02e.append(json_text['failings_total_NN'])\n",
        "for i in range(0,len(x_stab_02e)):\n",
        "    for j in range(0,len(x_stab_02e[i])):\n",
        "        if len(x_stab_02e[i][j]) != 3:\n",
        "           x_stab_02e[i][j].append(x_stab_02e[i][j][0])\n",
        "#relleno los que tienen solo dos mediciones iguales z\n",
        "for i in range(0,len(z_stab_02e)):\n",
        "    for j in range(0,len(z_stab_02e[i])):\n",
        "        if len(z_stab_02e[i][j]) != 3:\n",
        "           z_stab_02e[i][j].append(z_stab_02e[i][j][0])\n",
        "dataz_stab_02e =[]\n",
        "for i in range(0,len(z_stab_02e)):\n",
        "    for j in range(0,len(z_stab_02e[i])):\n",
        "        for k in range(0,len(z_stab_02e[i][j])):\n",
        "            for l in range(0,len(z_stab_02e[i][j][k])):\n",
        "                dataz_stab_02e.append(z_stab_02e[i][j][k][l])\n",
        "datax_stab_02e =[]\n",
        "for i in range(0,len(x_stab_02e)):\n",
        "    for j in range(0,len(x_stab_02e[i])):\n",
        "        for k in range(0,len(x_stab_02e[i][j])):\n",
        "            for l in range(0,len(x_stab_02e[i][j][k])):\n",
        "                datax_stab_02e.append(x_stab_02e[i][j][k][l])\n",
        "datax_stab_02e = np.array(datax_stab_02e).reshape((30000,12))\n",
        "dataz_stab_02e = np.array(dataz_stab_02e).reshape((30000,12))\n",
        "numeric_02e = []\n",
        "for i in range(0,len(final_errors_02e[0])):\n",
        "    for j in range(0,3):\n",
        "        numeric_02e.append(final_errors_02e[0][i])\n",
        "numeric_02e = np.array(numeric_02e).astype(int)\n",
        "indices = []\n",
        "for index, (vectx, vectz) in enumerate(zip(datax_stab_02e,dataz_stab_02e)):\n",
        "        if max(vectx)==0 & max(vectz)==0:\n",
        "            indices.append(index)\n",
        "delete_02e = indices#[:corte]\n",
        "datax_stab_02e=np.delete(datax_stab_02e,delete_02e,axis=0)\n",
        "dataz_stab_02e=np.delete(dataz_stab_02e,delete_02e,axis=0)\n",
        "numeric_02e = np.delete(numeric_02e,delete_02e,axis=0)\n",
        "datax3 = np.array(datax_stab_02e).reshape(len(datax_stab_02e)*3,4)\n",
        "dataz3 = np.array(dataz_stab_02e).reshape(len(datax_stab_02e)*3,4)\n",
        "numeric3 = []\n",
        "for i in range(0,len(datax_stab_02e)):\n",
        "    for j in range(0,3):\n",
        "        numeric3.append(numeric_02e[i])\n",
        "numeric3 = np.array(numeric3)\n",
        "data3_stab = np.concatenate((datax3,dataz3),axis = 1)\n",
        "data3 = np.concatenate((data3_stab,numeric3.reshape(len(datax_stab_02e)*3,1)),axis=1)\n",
        "pasos_tiempo3 = 3\n",
        "x3_0, y3_0 = separar_secuencia(data3,pasos_tiempo3)\n",
        "x3 = []\n",
        "y3 = []\n",
        "for index in range(0,len(x3_0)):\n",
        "    if index==0:\n",
        "        x3.append(x3_0[index])\n",
        "    elif index%3 == 0:\n",
        "        x3.append(x3_0[index])\n",
        "for index in range(0,len(y3_0)):\n",
        "    if index==0:\n",
        "        y3.append(y3_0[index])\n",
        "    elif index%3 == 0:\n",
        "        y3.append(y3_0[index])\n",
        "x3 = np.array(x3)\n",
        "x3=x3[round(len(x3)*0.8):len(x3)]\n",
        "y3 = np.array(y3)\n",
        "y3=y3[round(len(y3)*0.8):len(y3)]\n",
        "y3= keras.utils.to_categorical(y3,num_classes=2)\n",
        "acc_02e = model3.evaluate(x3, y3, batch_size=256)[1]\n",
        "delete_02e = len(delete_02e)\n",
        "acc_02e\"\"\""
      ],
      "execution_count": 0,
      "outputs": []
    },
    {
      "cell_type": "code",
      "metadata": {
        "id": "-aqWGL7oG94C",
        "colab_type": "code",
        "colab": {}
      },
      "source": [
        "files = []\n",
        "for file in json_files:\n",
        "    files.append(file.replace('.json',''))"
      ],
      "execution_count": 0,
      "outputs": []
    },
    {
      "cell_type": "code",
      "metadata": {
        "id": "4m1XwJkBG94F",
        "colab_type": "code",
        "colab": {}
      },
      "source": [
        "numbers = []\n",
        "for n in files:\n",
        "    numbers.append(n.replace('_',''))"
      ],
      "execution_count": 0,
      "outputs": []
    },
    {
      "cell_type": "code",
      "metadata": {
        "id": "HS-Lh7NYG94H",
        "colab_type": "code",
        "outputId": "574e525c-b3d2-4eb8-e1ee-6b706cbf8049",
        "colab": {}
      },
      "source": [
        "for i,j in zip(files,numbers):\n",
        "    print(i,j)\n",
        "    t1 = texto.replace('0_2',i)\n",
        "    string = j+'e'\n",
        "    t2 = t1.replace('02e',string)\n",
        "    exec(t2)"
      ],
      "execution_count": 0,
      "outputs": [
        {
          "output_type": "stream",
          "text": [
            "0_1 01\n",
            "2055/2055 [==============================] - 1s 304us/step\n",
            "0_2 02\n",
            "3317/3317 [==============================] - 0s 28us/step\n",
            "0_3 03\n",
            "4144/4144 [==============================] - 0s 26us/step\n",
            "0_4 04\n",
            "4674/4674 [==============================] - 0s 27us/step\n",
            "0_5 05\n",
            "5065/5065 [==============================] - 0s 28us/step\n",
            "0_6 06\n",
            "5296/5296 [==============================] - 0s 24us/step\n",
            "0_7 07\n",
            "5482/5482 [==============================] - 0s 26us/step\n",
            "0_8 08\n",
            "5579/5579 [==============================] - 0s 31us/step\n",
            "0_9 09\n",
            "5681/5681 [==============================] - 0s 27us/step\n",
            "1_0 10\n",
            "2003/2003 [==============================] - 0s 31us/step\n",
            "1_1 11\n",
            "3319/3319 [==============================] - 0s 33us/step\n",
            "1_2 12\n",
            "4171/4171 [==============================] - 0s 26us/step\n",
            "1_3 13\n",
            "4720/4720 [==============================] - 0s 26us/step\n",
            "1_4 14\n",
            "5081/5081 [==============================] - 0s 28us/step\n",
            "1_5 15\n",
            "5317/5317 [==============================] - 0s 26us/step\n",
            "1_6 16\n",
            "5476/5476 [==============================] - 0s 29us/step\n",
            "1_7 17\n",
            "5621/5621 [==============================] - 0s 33us/step\n",
            "1_8 18\n",
            "5687/5687 [==============================] - 0s 36us/step\n",
            "2_0 20\n",
            "3392/3392 [==============================] - 0s 28us/step\n",
            "2_1 21\n",
            "4203/4203 [==============================] - 0s 26us/step\n",
            "2_2 22\n",
            "4745/4745 [==============================] - 0s 26us/step\n",
            "2_3 23\n",
            "5111/5111 [==============================] - 0s 28us/step\n",
            "2_4 24\n",
            "5340/5340 [==============================] - 0s 26us/step\n",
            "2_5 25\n",
            "5515/5515 [==============================] - 0s 28us/step\n",
            "2_6 26\n",
            "5627/5627 [==============================] - 0s 28us/step\n",
            "2_7 27\n",
            "5701/5701 [==============================] - 0s 30us/step\n",
            "3_0 30\n",
            "4283/4283 [==============================] - 0s 26us/step\n",
            "3_1 31\n",
            "4786/4786 [==============================] - 0s 26us/step\n",
            "3_2 32\n",
            "5140/5140 [==============================] - 0s 24us/step\n",
            "3_3 33\n",
            "5378/5378 [==============================] - 0s 29us/step\n",
            "3_4 34\n",
            "5523/5523 [==============================] - 0s 31us/step\n",
            "3_5 35\n",
            "5635/5635 [==============================] - 0s 36us/step\n",
            "3_6 36\n",
            "5717/5717 [==============================] - 0s 60us/step\n",
            "4_0 40\n",
            "4847/4847 [==============================] - 0s 26us/step\n",
            "4_1 41\n",
            "5158/5158 [==============================] - 0s 27us/step\n",
            "4_2 42\n",
            "5388/5388 [==============================] - 0s 38us/step\n",
            "4_3 43\n",
            "5532/5532 [==============================] - 0s 25us/step\n",
            "4_4 44\n",
            "5659/5659 [==============================] - 0s 30us/step\n",
            "4_5 45\n",
            "5722/5722 [==============================] - 0s 27us/step\n",
            "5_0 50\n",
            "5217/5217 [==============================] - 0s 27us/step\n",
            "5_1 51\n",
            "5412/5412 [==============================] - 0s 26us/step\n",
            "5_2 52\n",
            "5582/5582 [==============================] - 0s 28us/step\n",
            "5_3 53\n",
            "5675/5675 [==============================] - 0s 66us/step\n",
            "5_4 54\n",
            "5741/5741 [==============================] - 0s 27us/step\n",
            "6_0 60\n",
            "5460/5460 [==============================] - 0s 29us/step\n",
            "6_1 61\n",
            "5596/5596 [==============================] - 0s 25us/step\n",
            "6_2 62\n",
            "5682/5682 [==============================] - 0s 25us/step\n",
            "6_3 63\n",
            "5763/5763 [==============================] - 0s 27us/step\n",
            "7_0 70\n",
            "5618/5618 [==============================] - 0s 25us/step\n",
            "7_1 71\n",
            "5716/5716 [==============================] - 0s 25us/step\n",
            "7_2 72\n",
            "5776/5776 [==============================] - 0s 27us/step\n",
            "8_0 80\n",
            "5736/5736 [==============================] - 0s 27us/step\n",
            "8_1 81\n",
            "5774/5774 [==============================] - 0s 27us/step\n",
            "9_0 90\n",
            "5799/5799 [==============================] - 0s 27us/step\n"
          ],
          "name": "stdout"
        }
      ]
    },
    {
      "cell_type": "code",
      "metadata": {
        "id": "H7z4xRQcG94L",
        "colab_type": "code",
        "colab": {}
      },
      "source": [
        "acc = np.array([acc_01e,acc_02e,acc_03e,acc_04e,acc_05e,acc_06e,acc_07e,acc_08e,acc_09e,acc_10e,acc_11e,acc_12e,acc_13e,acc_14e,acc_15e,acc_16e,acc_17e,acc_18e,acc_20e,acc_21e,acc_22e,acc_23e,acc_24e,acc_25e,acc_26e,acc_27e,acc_30e,acc_31e,acc_32e,acc_33e,acc_34e,acc_35e,acc_36e,acc_40e,acc_41e,acc_42e,acc_43e,acc_44e,acc_45e,acc_50e,acc_51e,acc_52e,acc_53e,acc_54e,acc_60e,acc_61e,acc_62e,acc_63e,acc_70e,acc_71e,acc_72e,acc_80e,acc_81e,acc_90e])"
      ],
      "execution_count": 0,
      "outputs": []
    },
    {
      "cell_type": "code",
      "metadata": {
        "id": "IGmu0z0kG94O",
        "colab_type": "code",
        "colab": {}
      },
      "source": [
        "delete = np.array([delete_01e,delete_02e,delete_03e,delete_04e,delete_05e,delete_06e,delete_07e,delete_08e,delete_09e,delete_10e,delete_11e,delete_12e,delete_13e,delete_14e,delete_15e,delete_16e,delete_17e,delete_18e,delete_20e,delete_21e,delete_22e,delete_23e,delete_24e,delete_25e,delete_26e,delete_27e,delete_30e,delete_31e,delete_32e,delete_33e,delete_34e,delete_35e,delete_36e,delete_40e,delete_41e,delete_42e,delete_43e,delete_44e,delete_45e,delete_50e,delete_51e,delete_52e,delete_53e,delete_54e,delete_60e,delete_61e,delete_62e,delete_63e,delete_70e,delete_71e,delete_72e,delete_80e,delete_81e,delete_90e])"
      ],
      "execution_count": 0,
      "outputs": []
    },
    {
      "cell_type": "code",
      "metadata": {
        "id": "q5_EyLWQG94R",
        "colab_type": "code",
        "outputId": "87400d51-154b-4bdb-a2c1-15b7ad51a58d",
        "colab": {}
      },
      "source": [
        "delete"
      ],
      "execution_count": 0,
      "outputs": [
        {
          "output_type": "execute_result",
          "data": {
            "text/plain": [
              "array([19724, 13413,  9280,  6630,  4676,  3518,  2587,  2102,  1594,\n",
              "       19986, 13406,  9146,  6401,  4596,  3416,  2620,  1896,  1565,\n",
              "       13038,  8982,  6275,  4443,  3298,  2422,  1862,  1492,  8584,\n",
              "        6070,  4298,  3110,  2385,  1822,  1414,  5762,  4210,  3061,\n",
              "        2337,  1703,  1389,  3913,  2940,  2089,  1622,  1293,  2699,\n",
              "        2020,  1590,  1184,  1908,  1421,  1120,  1319,  1127,  1006])"
            ]
          },
          "metadata": {
            "tags": []
          },
          "execution_count": 13
        }
      ]
    },
    {
      "cell_type": "code",
      "metadata": {
        "id": "940kaIgJG94U",
        "colab_type": "code",
        "outputId": "15d7f5b2-936a-42e3-9863-54d707b485af",
        "colab": {}
      },
      "source": [
        "p = ['acc_01e','acc_02e','acc_03e','acc_04e','acc_05e','acc_06e','acc_07e','acc_08e','acc_09e','acc_10e','acc_11e','acc_12e','acc_13e','acc_14e','acc_15e','acc_16e','acc_17e','acc_18e','acc_20e','acc_21e','acc_22e','acc_23e','acc_24e','acc_25e','acc_26e','acc_27e','acc_30e','acc_31e','acc_32e','acc_33e','acc_34e','acc_35e','acc_36e','acc_40e','acc_41e','acc_42e','acc_43e','acc_44e','acc_45e','acc_50e','acc_51e','acc_52e','acc_53e','acc_54e','acc_60e','acc_61e','acc_62e','acc_63e','acc_70e','acc_71e','acc_72e','acc_80e','acc_81e','acc_90e']\n",
        "#strings = []\n",
        "\"\"\"for x in p:\n",
        "    strings.append(str(x))\n",
        "strings = np.array(strings)\"\"\""
      ],
      "execution_count": 0,
      "outputs": [
        {
          "output_type": "execute_result",
          "data": {
            "text/plain": [
              "'for x in p:\\n    strings.append(str(x))\\nstrings = np.array(strings)'"
            ]
          },
          "metadata": {
            "tags": []
          },
          "execution_count": 14
        }
      ]
    },
    {
      "cell_type": "code",
      "metadata": {
        "id": "JaxH5PR9G94W",
        "colab_type": "code",
        "colab": {}
      },
      "source": [
        "peso_cero = ['delete_01e','delete_02e','delete_03e','delete_04e','delete_05e','delete_06e','delete_07e','delete_08e','delete_09e','delete_10e','delete_11e','delete_12e','delete_13e','delete_14e','delete_15e','delete_16e','delete_17e','delete_18e','delete_20e','delete_21e','delete_22e','delete_23e','delete_24e','delete_25e','delete_26e','delete_27e','delete_30e','delete_31e','delete_32e','delete_33e','delete_34e','delete_35e','delete_36e','delete_40e','delete_41e','delete_42e','delete_43e','delete_44e','delete_45e','delete_50e','delete_51e','delete_52e','delete_53e','delete_54e','delete_60e','delete_61e','delete_62e','delete_63e','delete_70e','delete_71e','delete_72e','delete_80e','delete_81e','delete_90e']"
      ],
      "execution_count": 0,
      "outputs": []
    },
    {
      "cell_type": "code",
      "metadata": {
        "id": "JnqVKh0CG94Z",
        "colab_type": "code",
        "colab": {}
      },
      "source": [
        "fail = 1-acc"
      ],
      "execution_count": 0,
      "outputs": []
    },
    {
      "cell_type": "code",
      "metadata": {
        "id": "jJqvBFICG94b",
        "colab_type": "code",
        "colab": {}
      },
      "source": [
        "output_filename = 'summary_nn_p01.json'\n",
        "output_dict = {}\n",
        "for i in range(len(acc)):\n",
        "    output_dict[str((int(numbers[i][0]),int(numbers[i][1])))] = fail[i]\n",
        "output_json_file = open(output_filename, 'w')\n",
        "json.dump(output_dict, output_json_file)\n",
        "output_json_file.close()"
      ],
      "execution_count": 0,
      "outputs": []
    },
    {
      "cell_type": "code",
      "metadata": {
        "id": "mwGAGuQjG94g",
        "colab_type": "code",
        "colab": {}
      },
      "source": [
        "p_cero = []\n",
        "for name, number in zip(peso_cero,delete):\n",
        "    p_cero.append([name,number])"
      ],
      "execution_count": 0,
      "outputs": []
    },
    {
      "cell_type": "code",
      "metadata": {
        "id": "fB8-Z18EG94j",
        "colab_type": "code",
        "colab": {}
      },
      "source": [
        "final = []\n",
        "for name, number in zip(p,fail):\n",
        "    final.append([name,number])"
      ],
      "execution_count": 0,
      "outputs": []
    },
    {
      "cell_type": "code",
      "metadata": {
        "id": "Hxh7W7JEG94k",
        "colab_type": "code",
        "colab": {}
      },
      "source": [
        "with open(\"results_30mil.txt\", 'w') as output:\n",
        "    for row in final:\n",
        "        output.write(str(row) + '\\n')"
      ],
      "execution_count": 0,
      "outputs": []
    },
    {
      "cell_type": "code",
      "metadata": {
        "id": "nLpJix0hG94m",
        "colab_type": "code",
        "colab": {}
      },
      "source": [
        "with open(\"peso_cero.txt\", 'w') as output:\n",
        "    for row in p_cero:\n",
        "        output.write(str(row) + '\\n')"
      ],
      "execution_count": 0,
      "outputs": []
    },
    {
      "cell_type": "code",
      "metadata": {
        "id": "kwVE-jbDG94n",
        "colab_type": "code",
        "colab": {}
      },
      "source": [
        ""
      ],
      "execution_count": 0,
      "outputs": []
    }
  ]
}